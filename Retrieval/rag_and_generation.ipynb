{
 "cells": [
  {
   "cell_type": "code",
   "execution_count": 2,
   "metadata": {},
   "outputs": [],
   "source": [
    "from langchain_community.embeddings import GPT4AllEmbeddings\n",
    "from pinecone import Pinecone as PineconeClient\n",
    "from langchain.chat_models import init_chat_model\n",
    "from langchain_pinecone import PineconeVectorStore\n",
    "import os\n",
    "from dotenv import load_dotenv\n",
    "from typing_extensions import List, TypedDict\n",
    "from langchain_core.documents import Document\n",
    "from langchain import hub\n",
    "from langchain_google_genai import ChatGoogleGenerativeAI\n",
    "from langgraph.graph import START, StateGraph\n",
    "from langchain_core.prompts import PromptTemplate\n",
    "from langchain_deepseek import ChatDeepSeek\n",
    "import re, json"
   ]
  },
  {
   "cell_type": "code",
   "execution_count": 3,
   "metadata": {},
   "outputs": [
    {
     "data": {
      "text/plain": [
       "True"
      ]
     },
     "execution_count": 3,
     "metadata": {},
     "output_type": "execute_result"
    }
   ],
   "source": [
    "# Load env\n",
    "load_dotenv()"
   ]
  },
  {
   "cell_type": "code",
   "execution_count": 4,
   "metadata": {},
   "outputs": [],
   "source": [
    "PINECONE_API_KEY = os.getenv(\"PINECONE_API_KEY\")\n",
    "pc = PineconeClient(\n",
    "      api_key=PINECONE_API_KEY,\n",
    "  )\n",
    "index_name = \"langchainretrieval\"\n",
    "index = pc.Index(index_name)"
   ]
  },
  {
   "cell_type": "code",
   "execution_count": 5,
   "metadata": {},
   "outputs": [],
   "source": [
    "embedding = GPT4AllEmbeddings()\n",
    "vector_store = PineconeVectorStore(embedding=embedding, index_name=index_name)"
   ]
  },
  {
   "cell_type": "code",
   "execution_count": 6,
   "metadata": {},
   "outputs": [],
   "source": [
    "llm = ChatGoogleGenerativeAI(\n",
    "    model=\"gemini-2.0-pro-exp-02-05\",\n",
    "    api_key=os.getenv(\"GEMINI_API_KEY\"),\n",
    "    temperature=0.0\n",
    ")"
   ]
  },
  {
   "cell_type": "markdown",
   "metadata": {},
   "source": [
    "### 1. Define State, Nodes, Control Flow in LangGraph"
   ]
  },
  {
   "cell_type": "code",
   "execution_count": 28,
   "metadata": {},
   "outputs": [],
   "source": [
    "class State(TypedDict):\n",
    "    question: str\n",
    "    context: List[Document]\n",
    "    answer: str\n",
    "    meta: dict"
   ]
  },
  {
   "cell_type": "code",
   "execution_count": null,
   "metadata": {},
   "outputs": [],
   "source": [
    "def retrieve(state: State):\n",
    "    prompt_template = PromptTemplate(\n",
    "            input_variable=[\"question\"],\n",
    "            template=\"\"\"Tìm các thông tin location, rating, hotel_name (nếu có) trong câu: {question}. \n",
    "            Nếu không có thông tin thì loại bỏ biến đó khỏi kết quả.\n",
    "            Trả về JSON chỉ chứa các key có giá trị, theo format sau:\n",
    "            {{\"location\": \"string\", \"rating\": int, \"hotel_name\": \"string\"}}\"\"\"\n",
    "    )\n",
    "    filter = llm.invoke(prompt_template.invoke({\"question\": state['question']}))\n",
    "    meta = re.sub(r'```json\\n|```', '', filter.content).strip()\n",
    "    meta = json.loads(meta)\n",
    "    retrieved_docs = vector_store.similarity_search(state['question'], \n",
    "                                                    k=30,\n",
    "                                                    filter=meta)\n",
    "    return {\"context\": retrieved_docs, \"meta\": meta}\n",
    "\n",
    "def generate(state: State):\n",
    "    meta = state[\"meta\"] if \"meta\" in state else {}\n",
    "    if not state['context']:\n",
    "        return {\"answer\": f\"Xin lỗi, hệ thống không tìm thấy khách sạn nào ở {meta.get('location', '')} với rating {meta.get('rating', '')}. Vui lòng chọn lại rating khác.\"}\n",
    "    docs_content = \"\\n\\n\".join(f\"{doc.page_content}\\nmetadata: {doc.metadata}\" for doc in state['context'])\n",
    "    prompt_generation = PromptTemplate(\n",
    "        input_variables=['context'],\n",
    "        template=\"\"\"- Tóm tắt thông tin của tất cả khách sạn trong {context}, sử dụng dữ liệu từ metadata để bổ sung thông tin nhưng không in trực tiếp metadata.\n",
    "        Không cần in ra ID của khách sạn. Nếu có các khách sạn trùng ID trong context thì có thể nhóm vào 1 khách sạn (vì cùng 1 khách sạn) in ra với các thông tin\n",
    "        'Địa chỉ, Mô tả, Đánh giá (rating), URL_khách sạn.'\n",
    "        Ngoài ra, nếu nhiều hơn 1 khách sạn thì câu đầu tiên nên ghi là 'Dưới đây là thông tin một số khách sạn ở location với rating' (map location và rating tương ứng ở metadata).\n",
    "        Còn hỏi khách sạn cụ thể thì câu đầu nên ghi là 'Dưới đây là thông tin khách sạn hotel_name' (map hotel_name ở metadata).\"\"\"\n",
    "    )\n",
    "    messages = prompt_generation.invoke({\"context\": docs_content})\n",
    "    response = llm.invoke(messages)\n",
    "    return {\"answer\": response.content}"
   ]
  },
  {
   "cell_type": "code",
   "execution_count": 30,
   "metadata": {},
   "outputs": [],
   "source": [
    "graph_builder = StateGraph(State).add_sequence([retrieve, generate])\n",
    "graph_builder.add_edge(START, \"retrieve\")\n",
    "graph = graph_builder.compile()"
   ]
  },
  {
   "cell_type": "markdown",
   "metadata": {},
   "source": [
    "### 2. RAG and Generation"
   ]
  },
  {
   "cell_type": "code",
   "execution_count": 63,
   "metadata": {},
   "outputs": [],
   "source": [
    "results = graph.invoke({\"question\": \"Thông tin khách sạn Homestay Nhân Linh\"})"
   ]
  },
  {
   "cell_type": "code",
   "execution_count": 64,
   "metadata": {},
   "outputs": [
    {
     "name": "stdout",
     "output_type": "stream",
     "text": [
      "Dưới đây là thông tin khách sạn Homestay Nhân Linh:\n",
      "\n",
      "*   **Địa chỉ:** 78 Nguyên Tử Lực phuong 8 dalat, Đà Lạt, Việt Nam\n",
      "*   **Mô tả:** Nằm cách Vườn hoa Đà Lạt 1 km, Nhân Linh có chỗ nghỉ với sảnh khách chung, khu vườn và lễ tân 24 giờ để tạo thuận tiện cho du khách. Nhà nghỉ B&B này cung cấp miễn phí cả WiFi lẫn chỗ đỗ xe riêng. Một số căn tại đây được bố trí khu vực ghế ngồi và/hoặc ban công. Du khách nghỉ tại Nhân Linh có thể thư giãn trên sân hiên. Hồ Xuân Hương và Công viên Yersin đều nằm trong bán kính 2,7 km từ chỗ nghỉ. Sân bay gần nhất là sân bay Liên Khương, cách Nhân Linh 31 km.\n",
      "*   **Đánh giá:** 5.0\n",
      "*   **URL\\_khách sạn:** [https://www.booking.com/hotel/vn/nhan-linh.vi.html?label=gen173nr-1FCAEoggI46AdIKlgEaPQBiAEBmAEquAEXyAEM2AEB6AEB-AECiAIBqAIDuALJm9ybBsACAdICJDE3MzdlYWUwLTU1ZDktNGQzNi1hMGZlLTU5MGRkZDc0ODY5MtgCBeACAQ&sid=842627633388b4367a2fb42d0ca3ab7f&aid=304142&ucfs=1&arphpl=1&dest\\_id=-3712045&dest\\_type=city&group\\_adults=2&req\\_adults=2&no\\_rooms=1&group\\_children=0&req\\_children=0&hpos=6&hapos=956&sr\\_order=popularity&srpvid=4ee03f9baf8a013a&srepoch=1669021368&from=searchresults#hotelTmpl](https://www.booking.com/hotel/vn/nhan-linh.vi.html?label=gen173nr-1FCAEoggI46AdIKlgEaPQBiAEBmAEquAEXyAEM2AEB6AEB-AECiAIBqAIDuALJm9ybBsACAdICJDE3MzdlYWUwLTU1ZDktNGQzNi1hMGZlLTU5MGRkZDc0ODY5MtgCBeACAQ&sid=842627633388b4367a2fb42d0ca3ab7f&aid=304142&ucfs=1&arphpl=1&dest_id=-3712045&dest_type=city&group_adults=2&req_adults=2&no_rooms=1&group_children=0&req_children=0&hpos=6&hapos=956&sr_order=popularity&srpvid=4ee03f9baf8a013a&srepoch=1669021368&from=searchresults#hotelTmpl)\n"
     ]
    }
   ],
   "source": [
    "print(results['answer'])"
   ]
  },
  {
   "cell_type": "code",
   "execution_count": 65,
   "metadata": {},
   "outputs": [
    {
     "name": "stdout",
     "output_type": "stream",
     "text": [
      "[Document(id='7218be4b-b432-4349-b241-1bd9889c9fa0', metadata={'hotel_id': 2696.0, 'hotel_name': 'Homestay Nhân Linh', 'location': 'Đà Lạt', 'rating': 5.0}, page_content='Tên khách sạn: Homestay Nhân Linh\\nMô tả: Nằm cách Vườn hoa Đà Lạt 1 km, Nhân Linh có chỗ nghỉ với sảnh khách chung, khu vườn và lễ tân 24 giờ để tạo thuận tiện cho du khách. Nhà nghỉ B&B này cung cấp miễn phí cả WiFi lẫn chỗ đỗ xe riêng. Một số căn tại đây được bố trí khu vực ghế ngồi và/hoặc ban công. Du khách nghỉ tại Nhân Linh có thể thư giãn trên sân hiên. Hồ Xuân Hương và Công viên Yersin đều nằm trong bán kính 2,7 km từ chỗ nghỉ. Sân bay gần nhất là sân bay Liên Khương, cách Nhân Linh 31 km.\\nĐịa chỉ: 78 Nguyên Tử Lực phuong 8 dalat, Đà Lạt, Việt Nam'), Document(id='e4842ace-1dcc-4089-aaa0-1d12f9049aae', metadata={'hotel_id': 2696.0, 'hotel_name': 'Homestay Nhân Linh', 'location': 'Đà Lạt', 'rating': 5.0}, page_content='Địa chỉ: 78 Nguyên Tử Lực phuong 8 dalat, Đà Lạt, Việt Nam\\nURL khách sạn: https://www.booking.com/hotel/vn/nhan-linh.vi.html?label=gen173nr-1FCAEoggI46AdIKlgEaPQBiAEBmAEquAEXyAEM2AEB6AEB-AECiAIBqAIDuALJm9ybBsACAdICJDE3MzdlYWUwLTU1ZDktNGQzNi1hMGZlLTU5MGRkZDc0ODY5MtgCBeACAQ&sid=842627633388b4367a2fb42d0ca3ab7f&aid=304142&ucfs=1&arphpl=1&dest_id=-3712045&dest_type=city&group_adults=2&req_adults=2&no_rooms=1&group_children=0&req_children=0&hpos=6&hapos=956&sr_order=popularity&srpvid=4ee03f9baf8a013a&srepoch=1669021368&from=searchresults#hotelTmpl')]\n"
     ]
    }
   ],
   "source": [
    "print(results['context'])"
   ]
  },
  {
   "cell_type": "code",
   "execution_count": null,
   "metadata": {},
   "outputs": [],
   "source": []
  }
 ],
 "metadata": {
  "kernelspec": {
   "display_name": "myvenv",
   "language": "python",
   "name": "python3"
  },
  "language_info": {
   "codemirror_mode": {
    "name": "ipython",
    "version": 3
   },
   "file_extension": ".py",
   "mimetype": "text/x-python",
   "name": "python",
   "nbconvert_exporter": "python",
   "pygments_lexer": "ipython3",
   "version": "3.11.8"
  }
 },
 "nbformat": 4,
 "nbformat_minor": 2
}
